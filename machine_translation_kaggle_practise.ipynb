{
  "cells": [
    {
      "metadata": {
        "collapsed": true,
        "_uuid": "60db0d0ef2a7d630127bceb2af3675cb3d822996"
      },
      "cell_type": "markdown",
      "source": "# Artificial Intelligence Nanodegree\n## Machine Translation Project\nIn this notebook, sections that end with **'(IMPLEMENTATION)'** in the header indicate that the following blocks of code will require additional functionality which you must provide. Please be sure to read the instructions carefully!\n\n## Introduction\nIn this notebook, you will build a deep neural network that functions as part of an end-to-end machine translation pipeline. Your completed pipeline will accept English text as input and return the French translation.\n\n- **Preprocess** - You'll convert text to sequence of integers.\n- **Models** Create models which accepts a sequence of integers as input and returns a probability distribution over possible translations. After learning about the basic types of neural networks that are often used for machine translation, you will engage in your own investigations, to design your own model!\n- **Prediction** Run the model on English text."
    },
    {
      "metadata": {
        "trusted": true,
        "_uuid": "7efc9a27c60298ea84ad243ee0325c8e46759bd7"
      },
      "cell_type": "code",
      "source": "%load_ext autoreload\n%aimport helper, tests\n%autoreload 1",
      "execution_count": 1,
      "outputs": []
    },
    {
      "metadata": {
        "trusted": true,
        "_uuid": "0ea4e09807e69bf0406fe8e36f681bf525a49396"
      },
      "cell_type": "code",
      "source": "import collections\n\nimport helper\nimport numpy as np\n#import project_tests as tests\n\nfrom keras.preprocessing.text import Tokenizer\nfrom keras.preprocessing.sequence import pad_sequences\nfrom keras.models import Model\nfrom keras.layers import GRU, Input, Dense, TimeDistributed, Activation, RepeatVector, Bidirectional\nfrom keras.layers.embeddings import Embedding\nfrom keras.optimizers import Adam\nfrom keras.losses import sparse_categorical_crossentropy",
      "execution_count": 2,
      "outputs": [
        {
          "output_type": "stream",
          "text": "Using TensorFlow backend.\n",
          "name": "stderr"
        }
      ]
    },
    {
      "metadata": {
        "_uuid": "e6892e34f6570edd3101cb052c782d8cba0d50f0"
      },
      "cell_type": "markdown",
      "source": "### Verify access to the GPU\nThe following test applies only if you expect to be using a GPU, e.g., while running in a Udacity Workspace or using an AWS instance with GPU support. Run the next cell, and verify that the device_type is \"GPU\".\n- If the device is not GPU & you are running from a Udacity Workspace, then save your workspace with the icon at the top, then click \"enable\" at the bottom of the workspace.\n- If the device is not GPU & you are running from an AWS instance, then refer to the cloud computing instructions in the classroom to verify your setup steps."
    },
    {
      "metadata": {
        "trusted": true,
        "_uuid": "f6ea86d3a7078a72372fa3ef0d817036a59ccfa6"
      },
      "cell_type": "code",
      "source": "from tensorflow.python.client import device_lib\nprint(device_lib.list_local_devices())",
      "execution_count": 3,
      "outputs": [
        {
          "output_type": "stream",
          "text": "[name: \"/device:CPU:0\"\ndevice_type: \"CPU\"\nmemory_limit: 268435456\nlocality {\n}\nincarnation: 1226513862793886030\n, name: \"/device:XLA_CPU:0\"\ndevice_type: \"XLA_CPU\"\nmemory_limit: 17179869184\nlocality {\n}\nincarnation: 7315572058906217477\nphysical_device_desc: \"device: XLA_CPU device\"\n]\n",
          "name": "stdout"
        }
      ]
    },
    {
      "metadata": {
        "_uuid": "2d3e41203c8c686d704df095d5276e051bd95ca1"
      },
      "cell_type": "markdown",
      "source": "## Dataset\nWe begin by investigating the dataset that will be used to train and evaluate your pipeline.  The most common datasets used for machine translation are from [WMT](http://www.statmt.org/).  However, that will take a long time to train a neural network on.  We'll be using a dataset we created for this project that contains a small vocabulary.  You'll be able to train your model in a reasonable time with this dataset.\n### Load Data\nThe data is located in `data/small_vocab_en` and `data/small_vocab_fr`. The `small_vocab_en` file contains English sentences with their French translations in the `small_vocab_fr` file. Load the English and French data from these files from running the cell below."
    },
    {
      "metadata": {
        "trusted": true,
        "_uuid": "ba7c293171a3025ae12ec1168c21cc48c40ef6aa"
      },
      "cell_type": "code",
      "source": "import os\n\n\ndef load_data(path):\n    \"\"\"\n    Load dataset\n    \"\"\"\n    input_file = os.path.join(path)\n    with open(input_file, \"r\") as f:\n        data = f.read()\n\n    return data.split('\\n')\n# Load English data\nenglish_sentences = load_data('../input/small_vocab_en')\n# Load French data\nfrench_sentences = load_data('../input/small_vocab_fr')\n\nprint('Dataset Loaded')",
      "execution_count": 4,
      "outputs": [
        {
          "output_type": "stream",
          "text": "Dataset Loaded\n",
          "name": "stdout"
        }
      ]
    },
    {
      "metadata": {
        "_uuid": "802c6fe1b884070d69ce7510d62695ff2f33164d"
      },
      "cell_type": "markdown",
      "source": "### Files\nEach line in `small_vocab_en` contains an English sentence with the respective translation in each line of `small_vocab_fr`.  View the first two lines from each file."
    },
    {
      "metadata": {
        "trusted": true,
        "_uuid": "57f1a032e09b9a208166654bea6abe91b3d219e9"
      },
      "cell_type": "code",
      "source": "for sample_i in range(2):\n    print('small_vocab_en Line {}:  {}'.format(sample_i + 1, english_sentences[sample_i]))\n    print('small_vocab_fr Line {}:  {}'.format(sample_i + 1, french_sentences[sample_i]))",
      "execution_count": 5,
      "outputs": [
        {
          "output_type": "stream",
          "text": "small_vocab_en Line 1:  new jersey is sometimes quiet during autumn , and it is snowy in april .\nsmall_vocab_fr Line 1:  new jersey est parfois calme pendant l' automne , et il est neigeux en avril .\nsmall_vocab_en Line 2:  the united states is usually chilly during july , and it is usually freezing in november .\nsmall_vocab_fr Line 2:  les états-unis est généralement froid en juillet , et il gèle habituellement en novembre .\n",
          "name": "stdout"
        }
      ]
    },
    {
      "metadata": {
        "_uuid": "23b5b5f1f6ada9d81c47961b6688cb35eb5daf38"
      },
      "cell_type": "markdown",
      "source": "From looking at the sentences, you can see they have been preprocessed already.  The puncuations have been delimited using spaces. All the text have been converted to lowercase.  This should save you some time, but the text requires more preprocessing.\n### Vocabulary\nThe complexity of the problem is determined by the complexity of the vocabulary.  A more complex vocabulary is a more complex problem.  Let's look at the complexity of the dataset we'll be working with."
    },
    {
      "metadata": {
        "trusted": true,
        "_uuid": "dbe4a20b341334a13279d864b2a2bbadbb9e77e4"
      },
      "cell_type": "code",
      "source": "english_words_counter = collections.Counter([word for sentence in english_sentences for word in sentence.split()])\nfrench_words_counter = collections.Counter([word for sentence in french_sentences for word in sentence.split()])\n\nprint('{} English words.'.format(len([word for sentence in english_sentences for word in sentence.split()])))\nprint('{} unique English words.'.format(len(english_words_counter)))\nprint('10 Most common words in the English dataset:')\nprint('\"' + '\" \"'.join(list(zip(*english_words_counter.most_common(10)))[0]) + '\"')\nprint()\nprint('{} French words.'.format(len([word for sentence in french_sentences for word in sentence.split()])))\nprint('{} unique French words.'.format(len(french_words_counter)))\nprint('10 Most common words in the French dataset:')\nprint('\"' + '\" \"'.join(list(zip(*french_words_counter.most_common(10)))[0]) + '\"')",
      "execution_count": 6,
      "outputs": [
        {
          "output_type": "stream",
          "text": "1823250 English words.\n227 unique English words.\n10 Most common words in the English dataset:\n\"is\" \",\" \".\" \"in\" \"it\" \"during\" \"the\" \"but\" \"and\" \"sometimes\"\n\n1961295 French words.\n355 unique French words.\n10 Most common words in the French dataset:\n\"est\" \".\" \",\" \"en\" \"il\" \"les\" \"mais\" \"et\" \"la\" \"parfois\"\n",
          "name": "stdout"
        }
      ]
    },
    {
      "metadata": {
        "_uuid": "1fa5cba0205aa5d622a3ca8bf22e6555e18d48f3"
      },
      "cell_type": "markdown",
      "source": "For comparison, _Alice's Adventures in Wonderland_ contains 2,766 unique words of a total of 15,500 words.\n## Preprocess\nFor this project, you won't use text data as input to your model. Instead, you'll convert the text into sequences of integers using the following preprocess methods:\n1. Tokenize the words into ids\n2. Add padding to make all the sequences the same length.\n\nTime to start preprocessing the data...\n### Tokenize (IMPLEMENTATION)\nFor a neural network to predict on text data, it first has to be turned into data it can understand. Text data like \"dog\" is a sequence of ASCII character encodings.  Since a neural network is a series of multiplication and addition operations, the input data needs to be number(s).\n\nWe can turn each character into a number or each word into a number.  These are called character and word ids, respectively.  Character ids are used for character level models that generate text predictions for each character.  A word level model uses word ids that generate text predictions for each word.  Word level models tend to learn better, since they are lower in complexity, so we'll use those.\n\nTurn each sentence into a sequence of words ids using Keras's [`Tokenizer`](https://keras.io/preprocessing/text/#tokenizer) function. Use this function to tokenize `english_sentences` and `french_sentences` in the cell below.\n\nRunning the cell will run `tokenize` on sample data and show output for debugging."
    },
    {
      "metadata": {
        "trusted": true,
        "_uuid": "647bd7edeb06d3770a06ca7326b693310dfa5ff3"
      },
      "cell_type": "code",
      "source": "def tokenize(x):\n    \"\"\"\n    Tokenize x\n    :param x: List of sentences/strings to be tokenized\n    :return: Tuple of (tokenized x data, tokenizer used to tokenize x)\n    \"\"\"\n    # TODO: Implement\n    x_tk = Tokenizer(char_level = False)\n    x_tk.fit_on_texts(x)\n    return x_tk.texts_to_sequences(x), x_tk\n\n# Tokenize Example output\ntext_sentences = [\n    'The quick brown fox jumps over the lazy dog .',\n    'By Jove , my quick study of lexicography won a prize .',\n    'This is a short sentence .']\ntext_tokenized, text_tokenizer = tokenize(text_sentences)\nprint(text_tokenizer.word_index)\nprint()\nfor sample_i, (sent, token_sent) in enumerate(zip(text_sentences, text_tokenized)):\n    print('Sequence {} in x'.format(sample_i + 1))\n    print('  Input:  {}'.format(sent))\n    print('  Output: {}'.format(token_sent))",
      "execution_count": 7,
      "outputs": [
        {
          "output_type": "stream",
          "text": "{'the': 1, 'quick': 2, 'a': 3, 'brown': 4, 'fox': 5, 'jumps': 6, 'over': 7, 'lazy': 8, 'dog': 9, 'by': 10, 'jove': 11, 'my': 12, 'study': 13, 'of': 14, 'lexicography': 15, 'won': 16, 'prize': 17, 'this': 18, 'is': 19, 'short': 20, 'sentence': 21}\n\nSequence 1 in x\n  Input:  The quick brown fox jumps over the lazy dog .\n  Output: [1, 2, 4, 5, 6, 7, 1, 8, 9]\nSequence 2 in x\n  Input:  By Jove , my quick study of lexicography won a prize .\n  Output: [10, 11, 12, 2, 13, 14, 15, 16, 3, 17]\nSequence 3 in x\n  Input:  This is a short sentence .\n  Output: [18, 19, 3, 20, 21]\n",
          "name": "stdout"
        }
      ]
    },
    {
      "metadata": {
        "_uuid": "9d1ac3673870af3587037cfc3a3faa2491636bd7"
      },
      "cell_type": "markdown",
      "source": "### Padding (IMPLEMENTATION)\nWhen batching the sequence of word ids together, each sequence needs to be the same length.  Since sentences are dynamic in length, we can add padding to the end of the sequences to make them the same length.\n\nMake sure all the English sequences have the same length and all the French sequences have the same length by adding padding to the **end** of each sequence using Keras's [`pad_sequences`](https://keras.io/preprocessing/sequence/#pad_sequences) function."
    },
    {
      "metadata": {
        "trusted": true,
        "_uuid": "8661fd53410f637d517b831a08ee6ac656cb693c"
      },
      "cell_type": "code",
      "source": "def pad(x, length=None):\n    \"\"\"\n    Pad x\n    :param x: List of sequences.\n    :param length: Length to pad the sequence to.  If None, use length of longest sequence in x.\n    :return: Padded numpy array of sequences\n    \"\"\"\n    # TODO: Implement\n    if length is None:\n        length = max([len(sentence) for sentence in x])\n    return pad_sequences(x, maxlen = length, padding = 'post')\n\ndef test_pad(pad):\n    tokens = [\n        [i for i in range(4)],\n        [i for i in range(6)],\n        [i for i in range(3)]]\n    padded_tokens = pad(tokens)\n    padding_id = padded_tokens[0][-1]\n    true_padded_tokens = np.array([\n        [i for i in range(4)] + [padding_id]*2,\n        [i for i in range(6)],\n        [i for i in range(3)] + [padding_id]*3])\n    assert isinstance(padded_tokens, np.ndarray),\\\n        'Pad returned the wrong type.  Found {} type, expected numpy array type.'\n    assert np.all(padded_tokens == true_padded_tokens), 'Pad returned the wrong results.'\n\n    padded_tokens_using_length = pad(tokens, 9)\n    assert np.all(padded_tokens_using_length == np.concatenate((true_padded_tokens, np.full((3, 3), padding_id)), axis=1)),\\\n        'Using length argument return incorrect results'\n    \n#tests.test_pad(pad)\ntest_pad(pad)\n\n# Pad Tokenized output\ntest_pad = pad(text_tokenized)\nfor sample_i, (token_sent, pad_sent) in enumerate(zip(text_tokenized, test_pad)):\n    print('Sequence {} in x'.format(sample_i + 1))\n    print('  Input:  {}'.format(np.array(token_sent)))\n    print('  Output: {}'.format(pad_sent))",
      "execution_count": 8,
      "outputs": [
        {
          "output_type": "stream",
          "text": "Sequence 1 in x\n  Input:  [1 2 4 5 6 7 1 8 9]\n  Output: [1 2 4 5 6 7 1 8 9 0]\nSequence 2 in x\n  Input:  [10 11 12  2 13 14 15 16  3 17]\n  Output: [10 11 12  2 13 14 15 16  3 17]\nSequence 3 in x\n  Input:  [18 19  3 20 21]\n  Output: [18 19  3 20 21  0  0  0  0  0]\n",
          "name": "stdout"
        }
      ]
    },
    {
      "metadata": {
        "_uuid": "5d6607990cc81369656be8c4775ae018afc1dcf0"
      },
      "cell_type": "markdown",
      "source": "### Preprocess Pipeline\nYour focus for this project is to build neural network architecture, so we won't ask you to create a preprocess pipeline.  Instead, we've provided you with the implementation of the `preprocess` function."
    },
    {
      "metadata": {
        "trusted": true,
        "_uuid": "aaa42ad664069f85f6e02e4f75f259c3b5e9ea12"
      },
      "cell_type": "code",
      "source": "def preprocess(x, y):\n    \"\"\"\n    Preprocess x and y\n    :param x: Feature List of sentences\n    :param y: Label List of sentences\n    :return: Tuple of (Preprocessed x, Preprocessed y, x tokenizer, y tokenizer)\n    \"\"\"\n    preprocess_x, x_tk = tokenize(x)\n    preprocess_y, y_tk = tokenize(y)\n\n    preprocess_x = pad(preprocess_x)\n    preprocess_y = pad(preprocess_y)\n\n    # Keras's sparse_categorical_crossentropy function requires the labels to be in 3 dimensions\n    preprocess_y = preprocess_y.reshape(*preprocess_y.shape, 1)\n\n    return preprocess_x, preprocess_y, x_tk, y_tk\n\npreproc_english_sentences, preproc_french_sentences, english_tokenizer, french_tokenizer =\\\n    preprocess(english_sentences, french_sentences)\n    \nmax_english_sequence_length = preproc_english_sentences.shape[1]\nmax_french_sequence_length = preproc_french_sentences.shape[1]\nenglish_vocab_size = len(english_tokenizer.word_index) + 1\nfrench_vocab_size = len(french_tokenizer.word_index) + 1\n\nprint('Data Preprocessed')\nprint(\"Max English sentence length:\", max_english_sequence_length)\nprint(\"Max French sentence length:\", max_french_sequence_length)\nprint(\"English vocabulary size:\", english_vocab_size)\nprint(\"French vocabulary size:\", french_vocab_size)\nprint(\"English sentence shape:\", preproc_english_sentences.shape)\nprint(\"French sentence shape:\", preproc_french_sentences.shape)",
      "execution_count": 13,
      "outputs": [
        {
          "output_type": "stream",
          "text": "Data Preprocessed\nMax English sentence length: 15\nMax French sentence length: 21\nEnglish vocabulary size: 200\nFrench vocabulary size: 345\nEnglish sentence shape: (137861, 15)\nFrench sentence shape: (137861, 21, 1)\n",
          "name": "stdout"
        }
      ]
    },
    {
      "metadata": {
        "_uuid": "a2705d137bfdc1de0909fd877218b0b4e3fc514a"
      },
      "cell_type": "markdown",
      "source": "## Models\nIn this section, you will experiment with various neural network architectures.\nYou will begin by training four relatively simple architectures.\n- Model 1 is a simple RNN\n- Model 2 is a RNN with Embedding\n- Model 3 is a Bidirectional RNN\n- Model 4 is an optional Encoder-Decoder RNN\n\nAfter experimenting with the four simple architectures, you will construct a deeper architecture that is designed to outperform all four models.\n### Ids Back to Text\nThe neural network will be translating the input to words ids, which isn't the final form we want.  We want the French translation.  The function `logits_to_text` will bridge the gab between the logits from the neural network to the French translation.  You'll be using this function to better understand the output of the neural network."
    },
    {
      "metadata": {
        "trusted": true,
        "_uuid": "db60e82f63669d6572931fd7ce35b35de65a2f89"
      },
      "cell_type": "code",
      "source": "def logits_to_text(logits, tokenizer):\n    \"\"\"\n    Turn logits from a neural network into text using the tokenizer\n    :param logits: Logits from a neural network\n    :param tokenizer: Keras Tokenizer fit on the labels\n    :return: String that represents the text of the logits\n    \"\"\"\n    index_to_words = {id: word for word, id in tokenizer.word_index.items()}\n    index_to_words[0] = '<PAD>'\n\n    return ' '.join([index_to_words[prediction] for prediction in np.argmax(logits, 1)])\n\nprint('`logits_to_text` function loaded.')\n#print(french_tokenizer.word_index.items())\n#print({id: word for word, id in french_tokenizer.word_index.items()})",
      "execution_count": 14,
      "outputs": [
        {
          "output_type": "stream",
          "text": "`logits_to_text` function loaded.\n",
          "name": "stdout"
        }
      ]
    },
    {
      "metadata": {
        "_uuid": "34a06003a10e78d91898d8b6206771a5e10d9b22"
      },
      "cell_type": "markdown",
      "source": "### Model 1: RNN (IMPLEMENTATION)\n![RNN](images/rnn.png)\nA basic RNN model is a good baseline for sequence data.  In this model, you'll build a RNN that translates English to French."
    },
    {
      "metadata": {
        "trusted": true,
        "_uuid": "58102706e491507aa8703356c54e3f2d8fd9386d"
      },
      "cell_type": "code",
      "source": "import numpy as np\nfrom keras.losses import sparse_categorical_crossentropy\nfrom keras.models import Sequential\nfrom keras.preprocessing.text import Tokenizer\nfrom keras.utils import to_categorical\n\ndef _test_model(model, input_shape, output_sequence_length, french_vocab_size):\n    if isinstance(model, Sequential):\n        model = model.model\n\n    assert model.input_shape == (None, *input_shape[1:]),\\\n        'Wrong input shape. Found input shape {} using parameter input_shape={}'.format(model.input_shape, input_shape)\n\n    assert model.output_shape == (None, output_sequence_length, french_vocab_size),\\\n        'Wrong output shape. Found output shape {} using parameters output_sequence_length={} and french_vocab_size={}'\\\n            .format(model.output_shape, output_sequence_length, french_vocab_size)\n\n    assert len(model.loss_functions) > 0,\\\n        'No loss function set.  Apply the `compile` function to the model.'\n\n    assert sparse_categorical_crossentropy in model.loss_functions,\\\n        'Not using `sparse_categorical_crossentropy` function for loss.'\n\ndef test_simple_model(simple_model):\n    input_shape = (137861, 21, 1)\n    output_sequence_length = 21\n    english_vocab_size = 199\n    french_vocab_size = 344\n\n    model = simple_model(input_shape, output_sequence_length, english_vocab_size, french_vocab_size)\n    _test_model(model, input_shape, output_sequence_length, french_vocab_size)",
      "execution_count": 15,
      "outputs": []
    },
    {
      "metadata": {
        "trusted": true,
        "_uuid": "cb2c00a59acff03c15579f4d04d02ca5f1cd2630"
      },
      "cell_type": "code",
      "source": "def simple_model(input_shape, output_sequence_length, english_vocab_size, french_vocab_size):\n    \"\"\"\n    Build and train a basic RNN on x and y\n    :param input_shape: Tuple of input shape\n    :param output_sequence_length: Length of output sequence\n    :param english_vocab_size: Number of unique English words in the dataset\n    :param french_vocab_size: Number of unique French words in the dataset\n    :return: Keras model built, but not trained\n    \"\"\"\n    # TODO: Build the layers\n    learning_rate = 1e-3\n    input_seq = Input(input_shape[1:])\n    rnn = GRU(64, return_sequences = True)(input_seq)\n    logits = TimeDistributed(Dense(french_vocab_size))(rnn)\n    model = Model(input_seq, Activation('softmax')(logits))\n    model.compile(loss = sparse_categorical_crossentropy, \n                 optimizer = Adam(learning_rate), \n                 metrics = ['accuracy'])\n    \n    return model\n\n#tests.test_simple_model(simple_model)\ntest_simple_model(simple_model)\n\n# Reshaping the input to work with a basic RNN\ntmp_x = pad(preproc_english_sentences, max_french_sequence_length)\nprint('tmp_x shape:', tmp_x.shape)\ntmp_x = tmp_x.reshape((-1, preproc_french_sentences.shape[-2], 1))\nprint('tmp_x shape:', tmp_x.shape)\ntmp_x = tmp_x[0:-1, :, :]\npreproc_french_sentences = preproc_french_sentences[0:-1, :, :]\nprint('tmp_x shape:', tmp_x.shape)\n\n\n# Train the neural network\nsimple_rnn_model = simple_model(\n    tmp_x.shape,\n    max_french_sequence_length,\n    english_vocab_size,\n    french_vocab_size)\nprint('tmp_x shape:', tmp_x.shape)\nprint('preproc_french_sentences shape:', preproc_french_sentences.shape)\nsimple_rnn_model.fit(tmp_x, preproc_french_sentences, batch_size=1024, epochs=10, validation_split=0.2)\n\n# Print prediction(s)\nprint(logits_to_text(simple_rnn_model.predict(tmp_x[:1])[0], french_tokenizer))",
      "execution_count": null,
      "outputs": []
    },
    {
      "metadata": {
        "_uuid": "f4cf20c6a528cdacb2e5e45ddbefd2ad55e8d652"
      },
      "cell_type": "markdown",
      "source": "### Model 2: Embedding (IMPLEMENTATION)\n![RNN](images/embedding.png)\nYou've turned the words into ids, but there's a better representation of a word.  This is called word embeddings.  An embedding is a vector representation of the word that is close to similar words in n-dimensional space, where the n represents the size of the embedding vectors.\n\nIn this model, you'll create a RNN model using embedding."
    },
    {
      "metadata": {
        "trusted": false,
        "_uuid": "54f618131a7a8c554f7f251772fc35098bcbacb5"
      },
      "cell_type": "code",
      "source": "from keras.models import Sequential\ndef embed_model(input_shape, output_sequence_length, english_vocab_size, french_vocab_size):\n    \"\"\"\n    Build and train a RNN model using word embedding on x and y\n    :param input_shape: Tuple of input shape\n    :param output_sequence_length: Length of output sequence\n    :param english_vocab_size: Number of unique English words in the dataset\n    :param french_vocab_size: Number of unique French words in the dataset\n    :return: Keras model built, but not trained\n    \"\"\"\n    # TODO: Implement\n    learning_rate = 1e-3\n    rnn = GRU(64, return_sequences=True, activation=\"tanh\")\n    \n    embedding = Embedding(french_vocab_size, 64, input_length=input_shape[1]) \n    logits = TimeDistributed(Dense(french_vocab_size, activation=\"softmax\"))\n    \n    model = Sequential()\n    #em can only be used in first layer --> Keras Documentation\n    model.add(embedding)\n    model.add(rnn)\n    model.add(logits)\n    model.compile(loss=sparse_categorical_crossentropy,\n                  optimizer=Adam(learning_rate),\n                  metrics=['accuracy'])\n    \n    return model\ntests.test_embed_model(embed_model)\n\n\n# TODO: Reshape the input\ntmp_x = pad(preproc_english_sentences, max_french_sequence_length)\ntmp_x = tmp_x.reshape((-1, preproc_french_sentences.shape[-2]))\n\n# TODO: Train the neural network\n\nembeded_model = embed_model(\n    tmp_x.shape,\n    max_french_sequence_length,\n    english_vocab_size,\n    french_vocab_size)\n\nembeded_model.fit(tmp_x, preproc_french_sentences, batch_size=1024, epochs=10, validation_split=0.2)\n\n\n# TODO: Print prediction(s)\nprint(logits_to_text(embeded_model.predict(tmp_x[:1])[0], french_tokenizer))",
      "execution_count": null,
      "outputs": []
    },
    {
      "metadata": {
        "_uuid": "f28b312e36148ac41075beee957644a3a47a9f7b"
      },
      "cell_type": "markdown",
      "source": "### Model 3: Bidirectional RNNs (IMPLEMENTATION)\n![RNN](images/bidirectional.png)\nOne restriction of a RNN is that it can't see the future input, only the past.  This is where bidirectional recurrent neural networks come in.  They are able to see the future data."
    },
    {
      "metadata": {
        "trusted": false,
        "_uuid": "5dcd8b8af0cbdb24830647a8aa04382b30a0a089"
      },
      "cell_type": "code",
      "source": "def bd_model(input_shape, output_sequence_length, english_vocab_size, french_vocab_size):\n    \"\"\"\n    Build and train a bidirectional RNN model on x and y\n    :param input_shape: Tuple of input shape\n    :param output_sequence_length: Length of output sequence\n    :param english_vocab_size: Number of unique English words in the dataset\n    :param french_vocab_size: Number of unique French words in the dataset\n    :return: Keras model built, but not trained\n    \"\"\"\n    # TODO: Implement\n    learning_rate = 1e-3\n    model = Sequential()\n    model.add(Bidirectional(GRU(128, return_sequences = True, dropout = 0.1), \n                           input_shape = input_shape[1:]))\n    model.add(TimeDistributed(Dense(french_vocab_size, activation = 'softmax')))\n    model.compile(loss = sparse_categorical_crossentropy, \n                 optimizer = Adam(learning_rate), \n                 metrics = ['accuracy'])\n    return model\ntests.test_bd_model(bd_model)\n\n\n# TODO: Train and Print prediction(s)\ntmp_x = pad(preproc_english_sentences, preproc_french_sentences.shape[1])\ntmp_x = tmp_x.reshape((-1, preproc_french_sentences.shape[-2], 1))\n\nbidi_model = bd_model(\n    tmp_x.shape,\n    preproc_french_sentences.shape[1],\n    len(english_tokenizer.word_index)+1,\n    len(french_tokenizer.word_index)+1)\n\n\nbidi_model.fit(tmp_x, preproc_french_sentences, batch_size=1024, epochs=20, validation_split=0.2)\n\n# Print prediction(s)\nprint(logits_to_text(bidi_model.predict(tmp_x[:1])[0], french_tokenizer))",
      "execution_count": null,
      "outputs": []
    },
    {
      "metadata": {
        "_uuid": "c08ef552c358c06d948d50443620ce0455add8f3"
      },
      "cell_type": "markdown",
      "source": "### Model 4: Encoder-Decoder (OPTIONAL)\nTime to look at encoder-decoder models.  This model is made up of an encoder and decoder. The encoder creates a matrix representation of the sentence.  The decoder takes this matrix as input and predicts the translation as output.\n\nCreate an encoder-decoder model in the cell below."
    },
    {
      "metadata": {
        "trusted": false,
        "_uuid": "383e9f648e38a50ae42816966142ecd9ebc60ddc"
      },
      "cell_type": "code",
      "source": "def encdec_model(input_shape, output_sequence_length, english_vocab_size, french_vocab_size):\n    \"\"\"\n    Build and train an encoder-decoder model on x and y\n    :param input_shape: Tuple of input shape\n    :param output_sequence_length: Length of output sequence\n    :param english_vocab_size: Number of unique English words in the dataset\n    :param french_vocab_size: Number of unique French words in the dataset\n    :return: Keras model built, but not trained\n    \"\"\"\n    # OPTIONAL: Implement\n    learning_rate = 1e-3\n    model = Sequential()\n    model.add(GRU(128, input_shape = input_shape[1:], return_sequences = False))\n    model.add(RepeatVector(output_sequence_length))\n    model.add(GRU(128, return_sequences = True))\n    model.add(TimeDistributed(Dense(french_vocab_size, activation = 'softmax')))\n    \n    model.compile(loss = sparse_categorical_crossentropy, \n                 optimizer = Adam(learning_rate), \n                 metrics = ['accuracy'])\n    return model\ntests.test_encdec_model(encdec_model)\n\n\n# OPTIONAL: Train and Print prediction(s)\ntmp_x = pad(preproc_english_sentences)\ntmp_x = tmp_x.reshape((-1, preproc_english_sentences.shape[1], 1))\n\nencodeco_model = encdec_model(\n    tmp_x.shape,\n    preproc_french_sentences.shape[1],\n    len(english_tokenizer.word_index)+1,\n    len(french_tokenizer.word_index)+1)\n\nencodeco_model.fit(tmp_x, preproc_french_sentences, batch_size=1024, epochs=20, validation_split=0.2)\n\nprint(logits_to_text(encodeco_model.predict(tmp_x[:1])[0], french_tokenizer))",
      "execution_count": null,
      "outputs": []
    },
    {
      "metadata": {
        "_uuid": "9a49f3006b1427a1cf4235963339a3856fdba2f8"
      },
      "cell_type": "markdown",
      "source": "### Model 5: Custom (IMPLEMENTATION)\nUse everything you learned from the previous models to create a model that incorporates embedding and a bidirectional rnn into one model."
    },
    {
      "metadata": {
        "trusted": false,
        "_uuid": "05306d69214c85df23b132265fa8148e34a67c20"
      },
      "cell_type": "code",
      "source": "def model_final(input_shape, output_sequence_length, english_vocab_size, french_vocab_size):\n    \"\"\"\n    Build and train a model that incorporates embedding, encoder-decoder, and bidirectional RNN on x and y\n    :param input_shape: Tuple of input shape\n    :param output_sequence_length: Length of output sequence\n    :param english_vocab_size: Number of unique English words in the dataset\n    :param french_vocab_size: Number of unique French words in the dataset\n    :return: Keras model built, but not trained\n    \"\"\"\n    # TODO: Implement\n    model = Sequential()\n    model.add(Embedding(input_dim=english_vocab_size,output_dim=128,input_length=input_shape[1]))\n    model.add(Bidirectional(GRU(256,return_sequences=False)))\n    model.add(RepeatVector(output_sequence_length))\n    model.add(Bidirectional(GRU(256,return_sequences=True)))\n    model.add(TimeDistributed(Dense(french_vocab_size,activation='softmax')))\n    learning_rate = 0.005\n    \n    model.compile(loss = sparse_categorical_crossentropy, \n                 optimizer = Adam(learning_rate), \n                 metrics = ['accuracy'])\n    \n    return model\ntests.test_model_final(model_final)\n\n\nprint('Final Model Loaded')\n# TODO: Train the final model",
      "execution_count": null,
      "outputs": []
    },
    {
      "metadata": {
        "_uuid": "d62a78c100177b29dce147b99230fb041d87494b"
      },
      "cell_type": "markdown",
      "source": "## Prediction (IMPLEMENTATION)"
    },
    {
      "metadata": {
        "scrolled": false,
        "trusted": false,
        "_uuid": "5f0dba1f98afa8ed8c091cec01f35145d47dcb24"
      },
      "cell_type": "code",
      "source": "def final_predictions(x, y, x_tk, y_tk):\n    \"\"\"\n    Gets predictions using the final model\n    :param x: Preprocessed English data\n    :param y: Preprocessed French data\n    :param x_tk: English tokenizer\n    :param y_tk: French tokenizer\n    \"\"\"\n    # TODO: Train neural network using model_final\n    tmp_X = pad(preproc_english_sentences)\n    model = model_final(tmp_X.shape,\n                        preproc_french_sentences.shape[1],\n                        len(english_tokenizer.word_index)+1,\n                        len(french_tokenizer.word_index)+1)\n    \n    model.fit(tmp_X, preproc_french_sentences, batch_size = 1024, epochs = 17, validation_split = 0.2)\n \n    ## DON'T EDIT ANYTHING BELOW THIS LINE\n    y_id_to_word = {value: key for key, value in y_tk.word_index.items()}\n    y_id_to_word[0] = '<PAD>'\n\n    sentence = 'he saw a old yellow truck'\n    sentence = [x_tk.word_index[word] for word in sentence.split()]\n    sentence = pad_sequences([sentence], maxlen=x.shape[-1], padding='post')\n    sentences = np.array([sentence[0], x[0]])\n    predictions = model.predict(sentences, len(sentences))\n\n    print('Sample 1:')\n    print(' '.join([y_id_to_word[np.argmax(x)] for x in predictions[0]]))\n    print('Il a vu un vieux camion jaune')\n    print('Sample 2:')\n    print(' '.join([y_id_to_word[np.argmax(x)] for x in predictions[1]]))\n    print(' '.join([y_id_to_word[np.max(x)] for x in y[0]]))\n\n\nfinal_predictions(preproc_english_sentences, preproc_french_sentences, english_tokenizer, french_tokenizer)",
      "execution_count": null,
      "outputs": []
    },
    {
      "metadata": {
        "_uuid": "cf4867e76751f0a791f455442bcc24fffb79ccd4"
      },
      "cell_type": "markdown",
      "source": "## Submission\nWhen you're ready to submit, complete the following steps:\n1. Review the [rubric](https://review.udacity.com/#!/rubrics/1004/view) to ensure your submission meets all requirements to pass\n2. Generate an HTML version of this notebook\n\n  - Run the next cell to attempt automatic generation (this is the recommended method in Workspaces)\n  - Navigate to **FILE -> Download as -> HTML (.html)**\n  - Manually generate a copy using `nbconvert` from your shell terminal\n```\n$ pip install nbconvert\n$ python -m nbconvert machine_translation.ipynb\n```\n  \n3. Submit the project\n\n  - If you are in a Workspace, simply click the \"Submit Project\" button (bottom towards the right)\n  \n  - Otherwise, add the following files into a zip archive and submit them \n  - `helper.py`\n  - `machine_translation.ipynb`\n  - `machine_translation.html`\n    - You can export the notebook by navigating to **File -> Download as -> HTML (.html)**."
    },
    {
      "metadata": {
        "_uuid": "d753dbbd589bd6f7d8de2c57a88add9f6c84ed04"
      },
      "cell_type": "markdown",
      "source": "### Generate the html\n\n**Save your notebook before running the next cell to generate the HTML output.** Then submit your project."
    },
    {
      "metadata": {
        "trusted": false,
        "_uuid": "c80755e2a4a0fc0fe8579afff3e40537a5876357"
      },
      "cell_type": "code",
      "source": "# Save before you run this cell!\n!!jupyter nbconvert *.ipynb",
      "execution_count": null,
      "outputs": []
    },
    {
      "metadata": {
        "_uuid": "2264435f42f4c3a83a22f26ecb4154c915f5f235"
      },
      "cell_type": "markdown",
      "source": "## Optional Enhancements\n\nThis project focuses on learning various network architectures for machine translation, but we don't evaluate the models according to best practices by splitting the data into separate test & training sets -- so the model accuracy is overstated. Use the [`sklearn.model_selection.train_test_split()`](http://scikit-learn.org/stable/modules/generated/sklearn.model_selection.train_test_split.html) function to create separate training & test datasets, then retrain each of the models using only the training set and evaluate the prediction accuracy using the hold out test set. Does the \"best\" model change?"
    }
  ],
  "metadata": {
    "kernelspec": {
      "display_name": "Python 3",
      "language": "python",
      "name": "python3"
    },
    "language_info": {
      "name": "python",
      "version": "3.6.6",
      "mimetype": "text/x-python",
      "codemirror_mode": {
        "name": "ipython",
        "version": 3
      },
      "pygments_lexer": "ipython3",
      "nbconvert_exporter": "python",
      "file_extension": ".py"
    }
  },
  "nbformat": 4,
  "nbformat_minor": 1
}